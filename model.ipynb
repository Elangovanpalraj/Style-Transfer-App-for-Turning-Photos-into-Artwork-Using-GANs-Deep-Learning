{
 "cells": [
  {
   "cell_type": "code",
   "execution_count": 1,
   "id": "2eabf150-21dd-4903-a2fb-91cec0914c2f",
   "metadata": {},
   "outputs": [],
   "source": [
    "import numpy as np\n",
    "import tensorflow as tf\n",
    "from tensorflow import keras\n",
    "from tensorflow.keras.applications import vgg19\n",
    "\n",
    "content = r'dataset/content/lena.jpg'\n",
    "style = r'dataset/style/mondrian.jpg'\n"
   ]
  },
  {
   "cell_type": "code",
   "execution_count": 3,
   "id": "d03a4f66-b52d-4374-a0bc-890a53d21385",
   "metadata": {},
   "outputs": [
    {
     "name": "stdout",
     "output_type": "stream",
     "text": [
      "🔄 Loading style transfer model from TensorFlow Hub...\n",
      "✅ Model loaded.\n",
      "📸 Stylized image saved as 'output_stylized.jpg'.\n",
      "INFO:tensorflow:Assets written to: saved_model/style_transfer_model\\assets\n"
     ]
    },
    {
     "name": "stderr",
     "output_type": "stream",
     "text": [
      "INFO:tensorflow:Assets written to: saved_model/style_transfer_model\\assets\n"
     ]
    },
    {
     "name": "stdout",
     "output_type": "stream",
     "text": [
      "💾 Model saved to 'saved_model/style_transfer_model'.\n",
      "INFO:tensorflow:Assets written to: model/style_transfer_model\\assets\n"
     ]
    },
    {
     "name": "stderr",
     "output_type": "stream",
     "text": [
      "INFO:tensorflow:Assets written to: model/style_transfer_model\\assets\n"
     ]
    },
    {
     "name": "stdout",
     "output_type": "stream",
     "text": [
      "💾 Model saved to 'model/style_transfer_model'.\n"
     ]
    }
   ],
   "source": [
    "import tensorflow as tf\n",
    "import tensorflow_hub as hub\n",
    "import numpy as np\n",
    "from PIL import Image\n",
    "import os\n",
    "\n",
    "# Function to load and preprocess image\n",
    "def load_and_process_img(img_path, img_size=(512, 512)):\n",
    "    img = tf.io.read_file(img_path)\n",
    "    img = tf.image.decode_image(img, channels=3)\n",
    "    img = tf.image.convert_image_dtype(img, tf.float32)\n",
    "    img = tf.image.resize(img, img_size)\n",
    "    img = img[tf.newaxis, :]\n",
    "    return img\n",
    "\n",
    "# Function to convert processed image to PIL image\n",
    "def deprocess_img(processed_img):\n",
    "    x = processed_img[0]\n",
    "    x = np.clip(x, 0, 1)\n",
    "    x = (x * 255).astype('uint8')\n",
    "    return Image.fromarray(x)\n",
    "\n",
    "# Paths to content and style images\n",
    "content_path = r'dataset/content/lena.jpg'\n",
    "style_path = r'dataset/style/mondrian.jpg'\n",
    "\n",
    "# Load and preprocess images\n",
    "content_image = load_and_process_img(content_path)\n",
    "style_image = load_and_process_img(style_path)\n",
    "\n",
    "# Load the style transfer model from TensorFlow Hub\n",
    "print(\"🔄 Loading style transfer model from TensorFlow Hub...\")\n",
    "hub_model = hub.load('https://tfhub.dev/google/magenta/arbitrary-image-stylization-v1-256/2')\n",
    "print(\"✅ Model loaded.\")\n",
    "\n",
    "# Run style transfer\n",
    "stylized_image = hub_model(tf.constant(content_image), tf.constant(style_image))[0]\n",
    "\n",
    "# Save the output stylized image\n",
    "output_image = deprocess_img(stylized_image.numpy())\n",
    "output_image.save(\"output_stylized.jpg\")\n",
    "print(\"📸 Stylized image saved as 'output_stylized.jpg'.\")\n",
    "\n",
    "# Wrap TF Hub model into a Keras-style model to allow saving\n",
    "class StyleTransferModel(tf.Module):\n",
    "    def __init__(self, model):\n",
    "        super().__init__()\n",
    "        self.model = model\n",
    "\n",
    "    @tf.function(input_signature=[\n",
    "        tf.TensorSpec(shape=[None, None, None, 3], dtype=tf.float32),\n",
    "        tf.TensorSpec(shape=[None, None, None, 3], dtype=tf.float32)\n",
    "    ])\n",
    "    def __call__(self, content, style):\n",
    "        return self.model(content, style)\n",
    "\n",
    "# Save the model\n",
    "style_transfer = StyleTransferModel(hub_model)\n",
    "tf.saved_model.save(style_transfer, 'saved_model/style_transfer_model')\n",
    "print(\"💾 Model saved to 'saved_model/style_transfer_model'.\")\n",
    "# Load the saved style transfer model\n",
    "loaded_model = tf.saved_model.load('saved_model/style_transfer_model')\n",
    "\n",
    "# Apply the model\n",
    "stylized_output = loaded_model(tf.constant(content_image), tf.constant(style_image))[0]\n",
    "# Save the model inside the Flask project model folder\n",
    "MODEL_DIR = 'model/style_transfer_model'\n",
    "tf.saved_model.save(style_transfer, MODEL_DIR)\n",
    "print(f\"💾 Model saved to '{MODEL_DIR}'.\")\n",
    "os.makedirs('model', exist_ok=True)\n"
   ]
  },
  {
   "cell_type": "code",
   "execution_count": null,
   "id": "ada12508-b208-4bbb-bc8d-28e7edbde254",
   "metadata": {},
   "outputs": [],
   "source": []
  },
  {
   "cell_type": "code",
   "execution_count": null,
   "id": "ab824397-dbdc-4a09-8850-187f41df6cf5",
   "metadata": {},
   "outputs": [],
   "source": []
  },
  {
   "cell_type": "code",
   "execution_count": null,
   "id": "863794b2-42f9-4690-b5a6-faf758d2cfb5",
   "metadata": {},
   "outputs": [],
   "source": []
  },
  {
   "cell_type": "code",
   "execution_count": null,
   "id": "33929fc8-f02a-4870-b314-80313ad2b5c4",
   "metadata": {},
   "outputs": [],
   "source": []
  },
  {
   "cell_type": "code",
   "execution_count": null,
   "id": "db964fc9-41e0-41c9-92c0-958a3adfe3cd",
   "metadata": {},
   "outputs": [],
   "source": []
  },
  {
   "cell_type": "code",
   "execution_count": null,
   "id": "c059ad0e-fc5a-4adb-afeb-6b2bcf8749a2",
   "metadata": {},
   "outputs": [],
   "source": []
  }
 ],
 "metadata": {
  "kernelspec": {
   "display_name": "Python 3 (ipykernel)",
   "language": "python",
   "name": "python3"
  },
  "language_info": {
   "codemirror_mode": {
    "name": "ipython",
    "version": 3
   },
   "file_extension": ".py",
   "mimetype": "text/x-python",
   "name": "python",
   "nbconvert_exporter": "python",
   "pygments_lexer": "ipython3",
   "version": "3.10.10"
  }
 },
 "nbformat": 4,
 "nbformat_minor": 5
}
